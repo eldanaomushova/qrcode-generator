{
  "cells": [
    {
      "cell_type": "code",
      "execution_count": 314,
      "metadata": {
        "colab": {
          "base_uri": "https://localhost:8080/",
          "height": 71
        },
        "id": "s7QObuerMZRV",
        "outputId": "e5a5a17f-a565-4ff9-c113-3de10dc7f04b"
      },
      "outputs": [
        {
          "output_type": "stream",
          "name": "stdout",
          "text": [
            "Enter the link: https://docs.google.com/spreadsheets/d/1IXuVdDltjIVmZLdM_fFwZF2bDh5ME0ymEUphHfYeIjM/edit?gid=1850753593#gid=1850753593&range=B18\n",
            "Enter the name for the output file (e.g., 'qrcode'): KDPSV30ASRDBLPSWLPDUOCAFAWAL-02-0001\n",
            "QR code saved as KDPSV30ASRDBLPSWLPDUOCAFAWAL-02-0001.jpg\n"
          ]
        },
        {
          "output_type": "display_data",
          "data": {
            "text/plain": [
              "<IPython.core.display.Javascript object>"
            ],
            "application/javascript": [
              "\n",
              "    async function download(id, filename, size) {\n",
              "      if (!google.colab.kernel.accessAllowed) {\n",
              "        return;\n",
              "      }\n",
              "      const div = document.createElement('div');\n",
              "      const label = document.createElement('label');\n",
              "      label.textContent = `Downloading \"${filename}\": `;\n",
              "      div.appendChild(label);\n",
              "      const progress = document.createElement('progress');\n",
              "      progress.max = size;\n",
              "      div.appendChild(progress);\n",
              "      document.body.appendChild(div);\n",
              "\n",
              "      const buffers = [];\n",
              "      let downloaded = 0;\n",
              "\n",
              "      const channel = await google.colab.kernel.comms.open(id);\n",
              "      // Send a message to notify the kernel that we're ready.\n",
              "      channel.send({})\n",
              "\n",
              "      for await (const message of channel.messages) {\n",
              "        // Send a message to notify the kernel that we're ready.\n",
              "        channel.send({})\n",
              "        if (message.buffers) {\n",
              "          for (const buffer of message.buffers) {\n",
              "            buffers.push(buffer);\n",
              "            downloaded += buffer.byteLength;\n",
              "            progress.value = downloaded;\n",
              "          }\n",
              "        }\n",
              "      }\n",
              "      const blob = new Blob(buffers, {type: 'application/binary'});\n",
              "      const a = document.createElement('a');\n",
              "      a.href = window.URL.createObjectURL(blob);\n",
              "      a.download = filename;\n",
              "      div.appendChild(a);\n",
              "      a.click();\n",
              "      div.remove();\n",
              "    }\n",
              "  "
            ]
          },
          "metadata": {}
        },
        {
          "output_type": "display_data",
          "data": {
            "text/plain": [
              "<IPython.core.display.Javascript object>"
            ],
            "application/javascript": [
              "download(\"download_4d73b8af-216a-4b05-b634-3fe0297aefe1\", \"KDPSV30ASRDBLPSWLPDUOCAFAWAL-02-0001.jpg\", 36832)"
            ]
          },
          "metadata": {}
        }
      ],
      "source": [
        "#!pip install qrcode[pil] install library\n",
        "import qrcode\n",
        "from google.colab import files\n",
        "\n",
        "def create_qr_code(link, output_file):\n",
        "    qr = qrcode.QRCode(\n",
        "        version=1,\n",
        "        error_correction=qrcode.constants.ERROR_CORRECT_L,\n",
        "        box_size=10,\n",
        "        border=4,\n",
        "    )\n",
        "    qr.add_data(link)\n",
        "    qr.make(fit=True)\n",
        "\n",
        "    img = qr.make_image(fill_color=\"black\", back_color=\"white\")\n",
        "\n",
        "    img.save(output_file, 'JPEG') #change image type\n",
        "    print(f\"QR code saved as {output_file}\")\n",
        "\n",
        "link = input(\"Enter the link: \")\n",
        "output_file = input(\"Enter the name for the output file (e.g., 'qrcode'): \")\n",
        "output_file += \".jpg\"\n",
        "\n",
        "create_qr_code(link, output_file)\n",
        "files.download(output_file)"
      ]
    },
    {
      "cell_type": "markdown",
      "source": [],
      "metadata": {
        "id": "3PKiOeaYIHKn"
      }
    }
  ],
  "metadata": {
    "colab": {
      "provenance": []
    },
    "kernelspec": {
      "display_name": "Python 3",
      "name": "python3"
    },
    "language_info": {
      "name": "python"
    }
  },
  "nbformat": 4,
  "nbformat_minor": 0
}